{
 "cells": [
  {
   "cell_type": "code",
   "execution_count": null,
   "source": [
    "import pandas as pd\r\n",
    "from selenium import webdriver\r\n",
    "from selenium.webdriver.common.by import By\r\n",
    "from selenium.webdriver.support.ui import WebDriverWait\r\n",
    "from selenium.webdriver.support import expected_conditions as EC"
   ],
   "outputs": [],
   "metadata": {}
  },
  {
   "cell_type": "code",
   "execution_count": null,
   "source": [
    "df = pd.read_csv('url_key_ratio.csv', header=[0], index_col=None)\r\n",
    "print(df.head())\r\n",
    "\r\n",
    "url_list = df['url'].tolist()\r\n",
    "print(len(url_list))"
   ],
   "outputs": [],
   "metadata": {}
  },
  {
   "cell_type": "code",
   "execution_count": null,
   "source": [
    "driver=webdriver.Chrome(executable_path=\"C:\\\\chromedriver_win32\\\\chromedriver.exe\")\r\n",
    "driver.quit()"
   ],
   "outputs": [],
   "metadata": {}
  },
  {
   "cell_type": "code",
   "execution_count": null,
   "source": [
    "class MyDriver(object):\r\n",
    "    def __init__(self, driver, default_timeout=2):\r\n",
    "        self.driver = driver\r\n",
    "        self.timeout = default_timeout\r\n",
    "\r\n",
    "    def find_element(self, locator):\r\n",
    "        return WebDriverWait(self.driver, self.timeout).until(EC.presence_of_element_located(locator))\r\n",
    "\r\n",
    "mydriver = MyDriver(driver)"
   ],
   "outputs": [],
   "metadata": {}
  },
  {
   "cell_type": "code",
   "execution_count": null,
   "source": [
    "mydriver=webdriver.Chrome(executable_path=\"C:\\\\chromedriver_win32\\\\chromedriver.exe\")\r\n",
    "mydriver.maximize_window()\r\n",
    "\r\n",
    "for url in url_list:\r\n",
    "    print(url)\r\n",
    "    mydriver.get(url)\r\n",
    "    mydriver.find_element_by_class_name('large_button').click()\r\n",
    "    print(\"------------ Downloaded ------------\")\r\n",
    "\r\n",
    "print(\"Completed\")\r\n",
    "mydriver.quit()"
   ],
   "outputs": [],
   "metadata": {}
  }
 ],
 "metadata": {
  "kernelspec": {
   "name": "python3",
   "display_name": "Python 3.8.10 64-bit ('base': conda)"
  },
  "language_info": {
   "codemirror_mode": {
    "name": "ipython",
    "version": 3
   },
   "file_extension": ".py",
   "mimetype": "text/x-python",
   "name": "python",
   "nbconvert_exporter": "python",
   "pygments_lexer": "ipython3",
   "version": "3.8.10"
  },
  "interpreter": {
   "hash": "8ce4f1ebc9fa02f9b22497d0974f14206bd135ab2c2138916c0537fe4661a4c3"
  }
 },
 "nbformat": 4,
 "nbformat_minor": 5
}